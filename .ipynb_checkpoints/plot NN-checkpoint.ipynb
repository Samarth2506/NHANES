{
 "cells": [
  {
   "cell_type": "code",
   "execution_count": 2,
   "metadata": {
    "ExecuteTime": {
     "end_time": "2020-06-25T21:47:43.169407Z",
     "start_time": "2020-06-25T21:47:42.765485Z"
    }
   },
   "outputs": [
    {
     "name": "stderr",
     "output_type": "stream",
     "text": [
      "Using TensorFlow backend.\n"
     ]
    }
   ],
   "source": [
    "import tensorflow as tf\n",
    "# ^^^ pyforest auto-imports - don't write above this line\n",
    "import numpy as np\n",
    "import pandas as pd\n",
    "import matplotlib.pyplot as plt\n",
    "import tensorflow as tf\n",
    "from keras.models import Sequential\n",
    "from keras.layers import Dense"
   ]
  },
  {
   "cell_type": "code",
   "execution_count": 6,
   "metadata": {
    "ExecuteTime": {
     "end_time": "2020-06-25T21:51:14.600556Z",
     "start_time": "2020-06-25T21:51:14.178479Z"
    }
   },
   "outputs": [
    {
     "data": {
      "image/svg+xml": [
       "<svg height=\"741pt\" viewBox=\"0.00 0.00 358.50 556.00\" width=\"478pt\" xmlns=\"http://www.w3.org/2000/svg\" xmlns:xlink=\"http://www.w3.org/1999/xlink\">\n",
       "<g class=\"graph\" id=\"graph0\" transform=\"scale(1.33333 1.33333) rotate(0) translate(4 552)\">\n",
       "<title>G</title>\n",
       "<polygon fill=\"white\" points=\"-4,4 -4,-552 354.5,-552 354.5,4 -4,4\" stroke=\"none\"/>\n",
       "<!-- 2425568325128 -->\n",
       "<g class=\"node\" id=\"node1\"><title>2425568325128</title>\n",
       "<polygon fill=\"none\" points=\"33,-511.5 33,-547.5 176,-547.5 176,-511.5 33,-511.5\" stroke=\"black\"/>\n",
       "<text font-family=\"Times New Roman,serif\" font-size=\"14.00\" text-anchor=\"middle\" x=\"104.5\" y=\"-525.8\">input_time: InputLayer</text>\n",
       "</g>\n",
       "<!-- 2425568321672 -->\n",
       "<g class=\"node\" id=\"node2\"><title>2425568321672</title>\n",
       "<polygon fill=\"none\" points=\"41,-438.5 41,-474.5 168,-474.5 168,-438.5 41,-438.5\" stroke=\"black\"/>\n",
       "<text font-family=\"Times New Roman,serif\" font-size=\"14.00\" text-anchor=\"middle\" x=\"104.5\" y=\"-452.8\">conv1d_6: Conv1D</text>\n",
       "</g>\n",
       "<!-- 2425568325128&#45;&gt;2425568321672 -->\n",
       "<g class=\"edge\" id=\"edge1\"><title>2425568325128-&gt;2425568321672</title>\n",
       "<path d=\"M104.5,-511.313C104.5,-503.289 104.5,-493.547 104.5,-484.569\" fill=\"none\" stroke=\"black\"/>\n",
       "<polygon fill=\"black\" points=\"108,-484.529 104.5,-474.529 101,-484.529 108,-484.529\" stroke=\"black\"/>\n",
       "</g>\n",
       "<!-- 2425568323912 -->\n",
       "<g class=\"node\" id=\"node3\"><title>2425568323912</title>\n",
       "<polygon fill=\"none\" points=\"0,-365.5 0,-401.5 209,-401.5 209,-365.5 0,-365.5\" stroke=\"black\"/>\n",
       "<text font-family=\"Times New Roman,serif\" font-size=\"14.00\" text-anchor=\"middle\" x=\"104.5\" y=\"-379.8\">max_pooling1d_3: MaxPooling1D</text>\n",
       "</g>\n",
       "<!-- 2425568321672&#45;&gt;2425568323912 -->\n",
       "<g class=\"edge\" id=\"edge2\"><title>2425568321672-&gt;2425568323912</title>\n",
       "<path d=\"M104.5,-438.313C104.5,-430.289 104.5,-420.547 104.5,-411.569\" fill=\"none\" stroke=\"black\"/>\n",
       "<polygon fill=\"black\" points=\"108,-411.529 104.5,-401.529 101,-411.529 108,-411.529\" stroke=\"black\"/>\n",
       "</g>\n",
       "<!-- 2425568333704 -->\n",
       "<g class=\"node\" id=\"node4\"><title>2425568333704</title>\n",
       "<polygon fill=\"none\" points=\"41,-292.5 41,-328.5 168,-328.5 168,-292.5 41,-292.5\" stroke=\"black\"/>\n",
       "<text font-family=\"Times New Roman,serif\" font-size=\"14.00\" text-anchor=\"middle\" x=\"104.5\" y=\"-306.8\">conv1d_7: Conv1D</text>\n",
       "</g>\n",
       "<!-- 2425568323912&#45;&gt;2425568333704 -->\n",
       "<g class=\"edge\" id=\"edge3\"><title>2425568323912-&gt;2425568333704</title>\n",
       "<path d=\"M104.5,-365.313C104.5,-357.289 104.5,-347.547 104.5,-338.569\" fill=\"none\" stroke=\"black\"/>\n",
       "<polygon fill=\"black\" points=\"108,-338.529 104.5,-328.529 101,-338.529 108,-338.529\" stroke=\"black\"/>\n",
       "</g>\n",
       "<!-- 2425568331720 -->\n",
       "<g class=\"node\" id=\"node5\"><title>2425568331720</title>\n",
       "<polygon fill=\"none\" points=\"50,-219.5 50,-255.5 159,-255.5 159,-219.5 50,-219.5\" stroke=\"black\"/>\n",
       "<text font-family=\"Times New Roman,serif\" font-size=\"14.00\" text-anchor=\"middle\" x=\"104.5\" y=\"-233.8\">flatten_3: Flatten</text>\n",
       "</g>\n",
       "<!-- 2425568333704&#45;&gt;2425568331720 -->\n",
       "<g class=\"edge\" id=\"edge4\"><title>2425568333704-&gt;2425568331720</title>\n",
       "<path d=\"M104.5,-292.313C104.5,-284.289 104.5,-274.547 104.5,-265.569\" fill=\"none\" stroke=\"black\"/>\n",
       "<polygon fill=\"black\" points=\"108,-265.529 104.5,-255.529 101,-265.529 108,-265.529\" stroke=\"black\"/>\n",
       "</g>\n",
       "<!-- 2425568333256 -->\n",
       "<g class=\"node\" id=\"node6\"><title>2425568333256</title>\n",
       "<polygon fill=\"none\" points=\"52.5,-146.5 52.5,-182.5 156.5,-182.5 156.5,-146.5 52.5,-146.5\" stroke=\"black\"/>\n",
       "<text font-family=\"Times New Roman,serif\" font-size=\"14.00\" text-anchor=\"middle\" x=\"104.5\" y=\"-160.8\">dense_6: Dense</text>\n",
       "</g>\n",
       "<!-- 2425568331720&#45;&gt;2425568333256 -->\n",
       "<g class=\"edge\" id=\"edge5\"><title>2425568331720-&gt;2425568333256</title>\n",
       "<path d=\"M104.5,-219.313C104.5,-211.289 104.5,-201.547 104.5,-192.569\" fill=\"none\" stroke=\"black\"/>\n",
       "<polygon fill=\"black\" points=\"108,-192.529 104.5,-182.529 101,-192.529 108,-192.529\" stroke=\"black\"/>\n",
       "</g>\n",
       "<!-- 2425571394120 -->\n",
       "<g class=\"node\" id=\"node8\"><title>2425571394120</title>\n",
       "<polygon fill=\"none\" points=\"97,-73.5 97,-109.5 270,-109.5 270,-73.5 97,-73.5\" stroke=\"black\"/>\n",
       "<text font-family=\"Times New Roman,serif\" font-size=\"14.00\" text-anchor=\"middle\" x=\"183.5\" y=\"-87.8\">concatenate_3: Concatenate</text>\n",
       "</g>\n",
       "<!-- 2425568333256&#45;&gt;2425571394120 -->\n",
       "<g class=\"edge\" id=\"edge6\"><title>2425568333256-&gt;2425571394120</title>\n",
       "<path d=\"M123.624,-146.313C133.619,-137.33 146.01,-126.193 156.923,-116.386\" fill=\"none\" stroke=\"black\"/>\n",
       "<polygon fill=\"black\" points=\"159.454,-118.816 164.552,-109.529 154.775,-113.61 159.454,-118.816\" stroke=\"black\"/>\n",
       "</g>\n",
       "<!-- 2425571073480 -->\n",
       "<g class=\"node\" id=\"node7\"><title>2425571073480</title>\n",
       "<polygon fill=\"none\" points=\"174.5,-146.5 174.5,-182.5 350.5,-182.5 350.5,-146.5 174.5,-146.5\" stroke=\"black\"/>\n",
       "<text font-family=\"Times New Roman,serif\" font-size=\"14.00\" text-anchor=\"middle\" x=\"262.5\" y=\"-160.8\">input_covariates: InputLayer</text>\n",
       "</g>\n",
       "<!-- 2425571073480&#45;&gt;2425571394120 -->\n",
       "<g class=\"edge\" id=\"edge7\"><title>2425571073480-&gt;2425571394120</title>\n",
       "<path d=\"M243.376,-146.313C233.381,-137.33 220.99,-126.193 210.077,-116.386\" fill=\"none\" stroke=\"black\"/>\n",
       "<polygon fill=\"black\" points=\"212.225,-113.61 202.448,-109.529 207.546,-118.816 212.225,-113.61\" stroke=\"black\"/>\n",
       "</g>\n",
       "<!-- 2425571646920 -->\n",
       "<g class=\"node\" id=\"node9\"><title>2425571646920</title>\n",
       "<polygon fill=\"none\" points=\"131.5,-0.5 131.5,-36.5 235.5,-36.5 235.5,-0.5 131.5,-0.5\" stroke=\"black\"/>\n",
       "<text font-family=\"Times New Roman,serif\" font-size=\"14.00\" text-anchor=\"middle\" x=\"183.5\" y=\"-14.8\">dense_7: Dense</text>\n",
       "</g>\n",
       "<!-- 2425571394120&#45;&gt;2425571646920 -->\n",
       "<g class=\"edge\" id=\"edge8\"><title>2425571394120-&gt;2425571646920</title>\n",
       "<path d=\"M183.5,-73.3129C183.5,-65.2895 183.5,-55.5475 183.5,-46.5691\" fill=\"none\" stroke=\"black\"/>\n",
       "<polygon fill=\"black\" points=\"187,-46.5288 183.5,-36.5288 180,-46.5289 187,-46.5288\" stroke=\"black\"/>\n",
       "</g>\n",
       "</g>\n",
       "</svg>"
      ],
      "text/plain": [
       "<IPython.core.display.SVG object>"
      ]
     },
     "execution_count": 6,
     "metadata": {},
     "output_type": "execute_result"
    }
   ],
   "source": [
    "time_input = tf.keras.Input(shape = (1440,1),\n",
    "                         name = 'input_time')\n",
    "\n",
    "time_output = Sequential(\n",
    "    [\n",
    "        time_input,\n",
    "        tf.keras.layers.Conv1D(filters = 2^8, kernel_size = 2, activation = \"relu\"),\n",
    "        tf.keras.layers.MaxPooling1D(pool_size = 2),\n",
    "        tf.keras.layers.Conv1D(filters = 2^4, kernel_size = 2, activation = \"relu\"),\n",
    "        tf.keras.layers.Flatten(),\n",
    "        tf.keras.layers.Dense(units = 2^4, activation = \"relu\")\n",
    "    ]\n",
    ") \n",
    "\n",
    "# time_output.summary()\n",
    "\n",
    "covariates_input = tf.keras.Input(shape = (3),\n",
    "                               name = 'input_covariates')\n",
    "\n",
    "\n",
    "covariates_output = Sequential(\n",
    "    [\n",
    "        covariates_input\n",
    "    ]\n",
    ")\n",
    "# covariates_output.summary()\n",
    "\n",
    "concatenate_layer = tf.keras.layers.Concatenate(axis=-1)([time_output.outputs[0], covariates_output.outputs[0]])\n",
    "output_layer = tf.keras.layers.Dense(1, activation='linear')(concatenate_layer)\n",
    "\n",
    "model_CNN = tf.keras.Model(\n",
    "  inputs = [time_input,covariates_input],\n",
    "  outputs = output_layer\n",
    ")\n",
    "\n",
    "model_CNN.compile(\n",
    " loss = \"mse\",\n",
    " optimizer = \"adam\",\n",
    " metrics = list(\"mean_absolute_error\")\n",
    ")\n",
    "\n",
    "from keras.utils.vis_utils import plot_model\n",
    "plot_model(model_CNN, to_file='images/model_CNN.png', show_shapes=True, show_layer_names=True)\n",
    "\n",
    "# from IPython.display import SVG\n",
    "# SVG(tf.keras.utils.model_to_dot(model_CNN).create(prog='dot', format='svg'))"
   ]
  },
  {
   "cell_type": "code",
   "execution_count": null,
   "metadata": {},
   "outputs": [],
   "source": []
  }
 ],
 "metadata": {
  "kernelspec": {
   "display_name": "Python 3",
   "language": "python",
   "name": "python3"
  },
  "language_info": {
   "codemirror_mode": {
    "name": "ipython",
    "version": 3
   },
   "file_extension": ".py",
   "mimetype": "text/x-python",
   "name": "python",
   "nbconvert_exporter": "python",
   "pygments_lexer": "ipython3",
   "version": "3.7.5"
  },
  "toc": {
   "base_numbering": 1,
   "nav_menu": {},
   "number_sections": true,
   "sideBar": true,
   "skip_h1_title": false,
   "title_cell": "Table of Contents",
   "title_sidebar": "Contents",
   "toc_cell": false,
   "toc_position": {},
   "toc_section_display": true,
   "toc_window_display": false
  },
  "varInspector": {
   "cols": {
    "lenName": 16,
    "lenType": 16,
    "lenVar": 40
   },
   "kernels_config": {
    "python": {
     "delete_cmd_postfix": "",
     "delete_cmd_prefix": "del ",
     "library": "var_list.py",
     "varRefreshCmd": "print(var_dic_list())"
    },
    "r": {
     "delete_cmd_postfix": ") ",
     "delete_cmd_prefix": "rm(",
     "library": "var_list.r",
     "varRefreshCmd": "cat(var_dic_list()) "
    }
   },
   "types_to_exclude": [
    "module",
    "function",
    "builtin_function_or_method",
    "instance",
    "_Feature"
   ],
   "window_display": false
  }
 },
 "nbformat": 4,
 "nbformat_minor": 4
}
